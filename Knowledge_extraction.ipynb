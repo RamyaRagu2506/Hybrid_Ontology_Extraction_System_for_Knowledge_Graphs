{
 "cells": [
  {
   "cell_type": "code",
   "execution_count": 1,
   "metadata": {},
   "outputs": [],
   "source": [
    "import pandas as pd \n",
    "import numpy as np\n",
    "import nltk \n",
    "from nltk.tokenize import word_tokenize\n",
    "from nltk.corpus import stopwords\n",
    "from nltk.stem import WordNetLemmatizer\n"
   ]
  },
  {
   "cell_type": "code",
   "execution_count": 2,
   "metadata": {},
   "outputs": [
    {
     "name": "stdout",
     "output_type": "stream",
     "text": [
      "Collecting py-pdf-parser\n",
      "  Downloading py_pdf_parser-0.13.0-py3-none-any.whl.metadata (1.8 kB)\n",
      "Collecting docopt==0.6.2 (from py-pdf-parser)\n",
      "  Downloading docopt-0.6.2.tar.gz (25 kB)\n",
      "  Preparing metadata (setup.py): started\n",
      "  Preparing metadata (setup.py): finished with status 'done'\n",
      "Collecting pdfminer.six==20220524 (from py-pdf-parser)\n",
      "  Downloading pdfminer.six-20220524-py3-none-any.whl.metadata (3.7 kB)\n",
      "Collecting wand==0.6.10 (from py-pdf-parser)\n",
      "  Downloading Wand-0.6.10-py2.py3-none-any.whl.metadata (3.9 kB)\n",
      "Requirement already satisfied: charset-normalizer>=2.0.0 in c:\\users\\ramya\\anaconda3\\lib\\site-packages (from pdfminer.six==20220524->py-pdf-parser) (3.3.2)\n",
      "Requirement already satisfied: cryptography>=36.0.0 in c:\\users\\ramya\\anaconda3\\lib\\site-packages (from pdfminer.six==20220524->py-pdf-parser) (43.0.0)\n",
      "Requirement already satisfied: cffi>=1.12 in c:\\users\\ramya\\anaconda3\\lib\\site-packages (from cryptography>=36.0.0->pdfminer.six==20220524->py-pdf-parser) (1.17.1)\n",
      "Requirement already satisfied: pycparser in c:\\users\\ramya\\anaconda3\\lib\\site-packages (from cffi>=1.12->cryptography>=36.0.0->pdfminer.six==20220524->py-pdf-parser) (2.21)\n",
      "Downloading py_pdf_parser-0.13.0-py3-none-any.whl (33 kB)\n",
      "Downloading pdfminer.six-20220524-py3-none-any.whl (5.6 MB)\n",
      "   ---------------------------------------- 0.0/5.6 MB ? eta -:--:--\n",
      "   ---------------------------------------  5.5/5.6 MB 30.5 MB/s eta 0:00:01\n",
      "   ---------------------------------------- 5.6/5.6 MB 26.3 MB/s eta 0:00:00\n",
      "Downloading Wand-0.6.10-py2.py3-none-any.whl (142 kB)\n",
      "Building wheels for collected packages: docopt\n",
      "  Building wheel for docopt (setup.py): started\n",
      "  Building wheel for docopt (setup.py): finished with status 'done'\n",
      "  Created wheel for docopt: filename=docopt-0.6.2-py2.py3-none-any.whl size=13775 sha256=0e26dd730f8c294a4b1dc96eb9fc8377246210577cea39e47c27ff8fac5acb98\n",
      "  Stored in directory: c:\\users\\ramya\\appdata\\local\\pip\\cache\\wheels\\1a\\bf\\a1\\4cee4f7678c68c5875ca89eaccf460593539805c3906722228\n",
      "Successfully built docopt\n",
      "Installing collected packages: wand, docopt, pdfminer.six, py-pdf-parser\n",
      "Successfully installed docopt-0.6.2 pdfminer.six-20220524 py-pdf-parser-0.13.0 wand-0.6.10\n"
     ]
    }
   ],
   "source": [
    "! pip install py-pdf-parser"
   ]
  },
  {
   "cell_type": "code",
   "execution_count": null,
   "metadata": {},
   "outputs": [],
   "source": [
    "# Load pdf parser on all the papers and retrieve the textual data into a pandas dataframe\n",
    "def load_pdf_parser():\n",
    "    "
   ]
  }
 ],
 "metadata": {
  "kernelspec": {
   "display_name": "base",
   "language": "python",
   "name": "python3"
  },
  "language_info": {
   "codemirror_mode": {
    "name": "ipython",
    "version": 3
   },
   "file_extension": ".py",
   "mimetype": "text/x-python",
   "name": "python",
   "nbconvert_exporter": "python",
   "pygments_lexer": "ipython3",
   "version": "3.12.7"
  }
 },
 "nbformat": 4,
 "nbformat_minor": 2
}
